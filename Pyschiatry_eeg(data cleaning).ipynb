{
 "cells": [
  {
   "cell_type": "code",
   "execution_count": 16,
   "id": "3e10fd0e-18da-4f82-a896-641b5610a7ad",
   "metadata": {},
   "outputs": [],
   "source": [
    "import pandas as pd\n",
    "import numpy as np\n",
    "import seaborn as sns\n",
    "import statsmodels\n",
    "import matplotlib.pyplot as plt\n",
    "import math\n",
    "\n",
    "df = pd.read_csv(\"eeg_psychiatry_data.csv\")"
   ]
  },
  {
   "cell_type": "code",
   "execution_count": 17,
   "id": "53eef104-58b3-43c9-bada-4b64dbbca9b8",
   "metadata": {},
   "outputs": [
    {
     "name": "stdout",
     "output_type": "stream",
     "text": [
      "   no. sex   age    eeg.date  education     IQ       main.disorder  \\\n",
      "0    1   M  57.0   2012.8.30        NaN    NaN  Addictive disorder   \n",
      "1    2   M  37.0    2012.9.6        6.0  120.0  Addictive disorder   \n",
      "2    3   M  32.0   2012.9.10       16.0  113.0  Addictive disorder   \n",
      "3    4   M  35.0   2012.10.8       18.0  126.0  Addictive disorder   \n",
      "4    5   M  36.0  2012.10.18       16.0  112.0  Addictive disorder   \n",
      "\n",
      "      specific.disorder  AB.A.delta.a.FP1  AB.A.delta.b.FP2  ...  \\\n",
      "0  Alcohol use disorder         35.998557         21.717375  ...   \n",
      "1  Alcohol use disorder         13.425118         11.002916  ...   \n",
      "2  Alcohol use disorder         29.941780         27.544684  ...   \n",
      "3  Alcohol use disorder         21.496226         21.846832  ...   \n",
      "4  Alcohol use disorder         37.775667         33.607679  ...   \n",
      "\n",
      "   COH.F.gamma.o.Pz.p.P4  COH.F.gamma.o.Pz.q.T6  COH.F.gamma.o.Pz.r.O1  \\\n",
      "0              55.989192              16.739679              23.452271   \n",
      "1              45.595619              17.510824              26.777368   \n",
      "2              99.475453              70.654171              39.131547   \n",
      "3              59.986561              63.822201              36.478254   \n",
      "4              61.462720              59.166097              51.465531   \n",
      "\n",
      "   COH.F.gamma.o.Pz.s.O2  COH.F.gamma.p.P4.q.T6  COH.F.gamma.p.P4.r.O1  \\\n",
      "0              45.678820              30.167520              16.918761   \n",
      "1              28.201062              57.108861              32.375401   \n",
      "2              69.920996              71.063644              38.534505   \n",
      "3              47.117006              84.658376              24.724096   \n",
      "4              58.635415              80.685608              62.138436   \n",
      "\n",
      "   COH.F.gamma.p.P4.s.O2  COH.F.gamma.q.T6.r.O1  COH.F.gamma.q.T6.s.O2  \\\n",
      "0              48.850427               9.422630              34.507082   \n",
      "1              60.351749              13.900981              57.831848   \n",
      "2              69.908764              27.180532              64.803155   \n",
      "3              50.299349              35.319695              79.822944   \n",
      "4              75.888749              61.003944              87.455509   \n",
      "\n",
      "   COH.F.gamma.r.O1.s.O2  \n",
      "0              28.613029  \n",
      "1              43.463261  \n",
      "2              31.485799  \n",
      "3              41.141873  \n",
      "4              70.531662  \n",
      "\n",
      "[5 rows x 1149 columns]\n"
     ]
    }
   ],
   "source": [
    "print(df.head())"
   ]
  },
  {
   "cell_type": "code",
   "execution_count": 18,
   "id": "f8eabf8f-285a-42a6-8c9a-195ac3358a89",
   "metadata": {},
   "outputs": [
    {
     "name": "stdout",
     "output_type": "stream",
     "text": [
      "Index(['no.', 'sex', 'age', 'eeg.date', 'education', 'IQ', 'main.disorder',\n",
      "       'specific.disorder', 'AB.A.delta.a.FP1', 'AB.A.delta.b.FP2',\n",
      "       ...\n",
      "       'COH.F.gamma.o.Pz.p.P4', 'COH.F.gamma.o.Pz.q.T6',\n",
      "       'COH.F.gamma.o.Pz.r.O1', 'COH.F.gamma.o.Pz.s.O2',\n",
      "       'COH.F.gamma.p.P4.q.T6', 'COH.F.gamma.p.P4.r.O1',\n",
      "       'COH.F.gamma.p.P4.s.O2', 'COH.F.gamma.q.T6.r.O1',\n",
      "       'COH.F.gamma.q.T6.s.O2', 'COH.F.gamma.r.O1.s.O2'],\n",
      "      dtype='object', length=1149)\n"
     ]
    }
   ],
   "source": [
    "print(df.columns)"
   ]
  },
  {
   "cell_type": "code",
   "execution_count": 19,
   "id": "3b17f01e-d491-4cd4-a8ba-96117c9f3143",
   "metadata": {},
   "outputs": [],
   "source": [
    "#splitting date, seperate columns for month, day, year\n",
    "string_split = df['eeg.date'].str.split('.')\n",
    "df['year'] = string_split.str.get(0)\n",
    "df['month'] = string_split.str.get(1)\n",
    "df['day'] = string_split.str.get(2)\n",
    "\n",
    "\n"
   ]
  },
  {
   "cell_type": "code",
   "execution_count": 20,
   "id": "1decb84e-7308-4c05-a3f6-54f01d2c6a85",
   "metadata": {},
   "outputs": [
    {
     "name": "stdout",
     "output_type": "stream",
     "text": [
      "   no. sex   age  education     IQ       main.disorder     specific.disorder  \\\n",
      "0    1   M  57.0        NaN    NaN  Addictive disorder  Alcohol use disorder   \n",
      "1    2   M  37.0        6.0  120.0  Addictive disorder  Alcohol use disorder   \n",
      "2    3   M  32.0       16.0  113.0  Addictive disorder  Alcohol use disorder   \n",
      "3    4   M  35.0       18.0  126.0  Addictive disorder  Alcohol use disorder   \n",
      "4    5   M  36.0       16.0  112.0  Addictive disorder  Alcohol use disorder   \n",
      "\n",
      "   AB.A.delta.a.FP1  AB.A.delta.b.FP2  AB.A.delta.c.F7  ...  \\\n",
      "0         35.998557         21.717375        21.518280  ...   \n",
      "1         13.425118         11.002916        11.942516  ...   \n",
      "2         29.941780         27.544684        17.150159  ...   \n",
      "3         21.496226         21.846832        17.364316  ...   \n",
      "4         37.775667         33.607679        21.865556  ...   \n",
      "\n",
      "   COH.F.gamma.o.Pz.s.O2  COH.F.gamma.p.P4.q.T6  COH.F.gamma.p.P4.r.O1  \\\n",
      "0              45.678820              30.167520              16.918761   \n",
      "1              28.201062              57.108861              32.375401   \n",
      "2              69.920996              71.063644              38.534505   \n",
      "3              47.117006              84.658376              24.724096   \n",
      "4              58.635415              80.685608              62.138436   \n",
      "\n",
      "   COH.F.gamma.p.P4.s.O2  COH.F.gamma.q.T6.r.O1  COH.F.gamma.q.T6.s.O2  \\\n",
      "0              48.850427               9.422630              34.507082   \n",
      "1              60.351749              13.900981              57.831848   \n",
      "2              69.908764              27.180532              64.803155   \n",
      "3              50.299349              35.319695              79.822944   \n",
      "4              75.888749              61.003944              87.455509   \n",
      "\n",
      "   COH.F.gamma.r.O1.s.O2  year  month  day  \n",
      "0              28.613029  2012      8   30  \n",
      "1              43.463261  2012      9    6  \n",
      "2              31.485799  2012      9   10  \n",
      "3              41.141873  2012     10    8  \n",
      "4              70.531662  2012     10   18  \n",
      "\n",
      "[5 rows x 1151 columns]\n"
     ]
    }
   ],
   "source": [
    "#removing eeg.date column\n",
    "df = df.drop('eeg.date', axis=1)\n",
    "print(df.head())"
   ]
  },
  {
   "cell_type": "code",
   "execution_count": 29,
   "id": "f846e11d-9ba7-46f6-9fc5-a73f94c04f1e",
   "metadata": {},
   "outputs": [
    {
     "name": "stdout",
     "output_type": "stream",
     "text": [
      "   no. sex   age  education     IQ main.disorder specific.disorder  \\\n",
      "0    1   M  57.0        0.0    0.0     Addictive           Alcohol   \n",
      "1    2   M  37.0        6.0  120.0     Addictive           Alcohol   \n",
      "2    3   M  32.0       16.0  113.0     Addictive           Alcohol   \n",
      "3    4   M  35.0       18.0  126.0     Addictive           Alcohol   \n",
      "4    5   M  36.0       16.0  112.0     Addictive           Alcohol   \n",
      "\n",
      "   AB.A.delta.a.FP1  AB.A.delta.b.FP2  AB.A.delta.c.F7  ...  \\\n",
      "0         35.998557         21.717375        21.518280  ...   \n",
      "1         13.425118         11.002916        11.942516  ...   \n",
      "2         29.941780         27.544684        17.150159  ...   \n",
      "3         21.496226         21.846832        17.364316  ...   \n",
      "4         37.775667         33.607679        21.865556  ...   \n",
      "\n",
      "   COH.F.gamma.o.Pz.s.O2  COH.F.gamma.p.P4.q.T6  COH.F.gamma.p.P4.r.O1  \\\n",
      "0              45.678820              30.167520              16.918761   \n",
      "1              28.201062              57.108861              32.375401   \n",
      "2              69.920996              71.063644              38.534505   \n",
      "3              47.117006              84.658376              24.724096   \n",
      "4              58.635415              80.685608              62.138436   \n",
      "\n",
      "   COH.F.gamma.p.P4.s.O2  COH.F.gamma.q.T6.r.O1  COH.F.gamma.q.T6.s.O2  \\\n",
      "0              48.850427               9.422630              34.507082   \n",
      "1              60.351749              13.900981              57.831848   \n",
      "2              69.908764              27.180532              64.803155   \n",
      "3              50.299349              35.319695              79.822944   \n",
      "4              75.888749              61.003944              87.455509   \n",
      "\n",
      "   COH.F.gamma.r.O1.s.O2  year  month  day  \n",
      "0              28.613029  2012      8   30  \n",
      "1              43.463261  2012      9    6  \n",
      "2              31.485799  2012      9   10  \n",
      "3              41.141873  2012     10    8  \n",
      "4              70.531662  2012     10   18  \n",
      "\n",
      "[5 rows x 1151 columns]\n"
     ]
    }
   ],
   "source": [
    "#removing 'disorder' from column 'main.disorder'\n",
    "split_main = df['main.disorder'].str.split(' ')\n",
    "df['main.disorder'] = split_main.str.get(0)\n",
    "\n",
    "#removing 'disorder' from column 'specific'\n",
    "split_spec = df['specific.disorder'].str.split(' ')\n",
    "df['specific.disorder'] = split_spec.str.get(0)\n",
    "\n",
    "print(df.head())\n"
   ]
  },
  {
   "cell_type": "code",
   "execution_count": 27,
   "id": "0ef24027-186d-430b-bfa2-640f2b897677",
   "metadata": {},
   "outputs": [
    {
     "name": "stdout",
     "output_type": "stream",
     "text": [
      "   no. sex   age  education     IQ       main.disorder     specific.disorder  \\\n",
      "0    1   M  57.0        0.0    0.0  Addictive disorder  Alcohol use disorder   \n",
      "1    2   M  37.0        6.0  120.0  Addictive disorder  Alcohol use disorder   \n",
      "2    3   M  32.0       16.0  113.0  Addictive disorder  Alcohol use disorder   \n",
      "3    4   M  35.0       18.0  126.0  Addictive disorder  Alcohol use disorder   \n",
      "4    5   M  36.0       16.0  112.0  Addictive disorder  Alcohol use disorder   \n",
      "\n",
      "   AB.A.delta.a.FP1  AB.A.delta.b.FP2  AB.A.delta.c.F7  ...  \\\n",
      "0         35.998557         21.717375        21.518280  ...   \n",
      "1         13.425118         11.002916        11.942516  ...   \n",
      "2         29.941780         27.544684        17.150159  ...   \n",
      "3         21.496226         21.846832        17.364316  ...   \n",
      "4         37.775667         33.607679        21.865556  ...   \n",
      "\n",
      "   COH.F.gamma.o.Pz.s.O2  COH.F.gamma.p.P4.q.T6  COH.F.gamma.p.P4.r.O1  \\\n",
      "0              45.678820              30.167520              16.918761   \n",
      "1              28.201062              57.108861              32.375401   \n",
      "2              69.920996              71.063644              38.534505   \n",
      "3              47.117006              84.658376              24.724096   \n",
      "4              58.635415              80.685608              62.138436   \n",
      "\n",
      "   COH.F.gamma.p.P4.s.O2  COH.F.gamma.q.T6.r.O1  COH.F.gamma.q.T6.s.O2  \\\n",
      "0              48.850427               9.422630              34.507082   \n",
      "1              60.351749              13.900981              57.831848   \n",
      "2              69.908764              27.180532              64.803155   \n",
      "3              50.299349              35.319695              79.822944   \n",
      "4              75.888749              61.003944              87.455509   \n",
      "\n",
      "   COH.F.gamma.r.O1.s.O2  year  month  day  \n",
      "0              28.613029  2012      8   30  \n",
      "1              43.463261  2012      9    6  \n",
      "2              31.485799  2012      9   10  \n",
      "3              41.141873  2012     10    8  \n",
      "4              70.531662  2012     10   18  \n",
      "\n",
      "[5 rows x 1151 columns]\n"
     ]
    }
   ],
   "source": [
    "#changing all NAN values to 0\n",
    "df = df.fillna(0)\n",
    "print(df.head())"
   ]
  },
  {
   "cell_type": "code",
   "execution_count": null,
   "id": "f26ab303-8a9f-486c-9387-79504a97e87c",
   "metadata": {},
   "outputs": [],
   "source": []
  }
 ],
 "metadata": {
  "kernelspec": {
   "display_name": "Python 3 (ipykernel)",
   "language": "python",
   "name": "python3"
  },
  "language_info": {
   "codemirror_mode": {
    "name": "ipython",
    "version": 3
   },
   "file_extension": ".py",
   "mimetype": "text/x-python",
   "name": "python",
   "nbconvert_exporter": "python",
   "pygments_lexer": "ipython3",
   "version": "3.11.5"
  }
 },
 "nbformat": 4,
 "nbformat_minor": 5
}
